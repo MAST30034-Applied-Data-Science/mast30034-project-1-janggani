{
 "cells": [
  {
   "cell_type": "markdown",
   "id": "be9dbb3b",
   "metadata": {},
   "source": [
    "Preprocessing the weather data to obtain hourly and daily data with temperature and wind speed"
   ]
  },
  {
   "cell_type": "code",
   "execution_count": 50,
   "id": "72544072",
   "metadata": {},
   "outputs": [],
   "source": [
    "from pyspark.sql import SparkSession\n",
    "from pyspark.sql.functions import *\n",
    "from pyspark.sql import functions as F\n",
    "\n",
    "# Create a spark session (which will run spark jobs)\n",
    "spark = (\n",
    "    SparkSession.builder.appName(\"MAST30034 Project 1\")\n",
    "    .config(\"spark.sql.repl.eagerEval.enabled\", True) \n",
    "    .config(\"spark.sql.parquet.cacheMetadata\", \"true\")\n",
    "    .config(\"spark.sql.session.timeZone\", \"Etc/UTC\") # ensure time zone isn't changed to Australian\n",
    "    .config(\"spark.executor.memory\", \"2g\")\n",
    "    .config(\"spark.driver.memory\", \"4g\")\n",
    "    .getOrCreate()\n",
    ")"
   ]
  },
  {
   "cell_type": "code",
   "execution_count": 51,
   "id": "1427fbcd",
   "metadata": {},
   "outputs": [
    {
     "data": {
      "text/html": [
       "<table border='1'>\n",
       "<tr><th>datetime</th><th>temp</th><th>windspeed</th></tr>\n",
       "<tr><td>2019-02-11T00:00:00</td><td>1</td><td>5.4</td></tr>\n",
       "<tr><td>2019-02-11T01:00:00</td><td>1.1</td><td>8.6</td></tr>\n",
       "<tr><td>2019-02-11T02:00:00</td><td>-0.2</td><td>0</td></tr>\n",
       "<tr><td>2019-02-11T03:00:00</td><td>-0.1</td><td>9.8</td></tr>\n",
       "<tr><td>2019-02-11T04:00:00</td><td>-0.8</td><td>12.5</td></tr>\n",
       "<tr><td>2019-02-11T05:00:00</td><td>-0.8</td><td>8.3</td></tr>\n",
       "<tr><td>2019-02-11T06:00:00</td><td>-0.9</td><td>8.6</td></tr>\n",
       "<tr><td>2019-02-11T07:00:00</td><td>-0.5</td><td>6.7</td></tr>\n",
       "<tr><td>2019-02-11T08:00:00</td><td>0.1</td><td>5.4</td></tr>\n",
       "<tr><td>2019-02-11T09:00:00</td><td>0.6</td><td>9.4</td></tr>\n",
       "<tr><td>2019-02-11T10:00:00</td><td>1.1</td><td>14</td></tr>\n",
       "<tr><td>2019-02-11T11:00:00</td><td>1.9</td><td>14.3</td></tr>\n",
       "<tr><td>2019-02-11T12:00:00</td><td>2.1</td><td>18.1</td></tr>\n",
       "<tr><td>2019-02-11T13:00:00</td><td>2.5</td><td>15.1</td></tr>\n",
       "<tr><td>2019-02-11T14:00:00</td><td>2.2</td><td>15.8</td></tr>\n",
       "<tr><td>2019-02-11T15:00:00</td><td>2.8</td><td>13</td></tr>\n",
       "<tr><td>2019-02-11T16:00:00</td><td>2.9</td><td>9.7</td></tr>\n",
       "<tr><td>2019-02-11T17:00:00</td><td>2.7</td><td>11.2</td></tr>\n",
       "<tr><td>2019-02-11T18:00:00</td><td>2.4</td><td>13</td></tr>\n",
       "<tr><td>2019-02-11T19:00:00</td><td>2.1</td><td>11.9</td></tr>\n",
       "</table>\n",
       "only showing top 20 rows\n"
      ],
      "text/plain": [
       "+-------------------+----+---------+\n",
       "|           datetime|temp|windspeed|\n",
       "+-------------------+----+---------+\n",
       "|2019-02-11T00:00:00|   1|      5.4|\n",
       "|2019-02-11T01:00:00| 1.1|      8.6|\n",
       "|2019-02-11T02:00:00|-0.2|        0|\n",
       "|2019-02-11T03:00:00|-0.1|      9.8|\n",
       "|2019-02-11T04:00:00|-0.8|     12.5|\n",
       "|2019-02-11T05:00:00|-0.8|      8.3|\n",
       "|2019-02-11T06:00:00|-0.9|      8.6|\n",
       "|2019-02-11T07:00:00|-0.5|      6.7|\n",
       "|2019-02-11T08:00:00| 0.1|      5.4|\n",
       "|2019-02-11T09:00:00| 0.6|      9.4|\n",
       "|2019-02-11T10:00:00| 1.1|       14|\n",
       "|2019-02-11T11:00:00| 1.9|     14.3|\n",
       "|2019-02-11T12:00:00| 2.1|     18.1|\n",
       "|2019-02-11T13:00:00| 2.5|     15.1|\n",
       "|2019-02-11T14:00:00| 2.2|     15.8|\n",
       "|2019-02-11T15:00:00| 2.8|       13|\n",
       "|2019-02-11T16:00:00| 2.9|      9.7|\n",
       "|2019-02-11T17:00:00| 2.7|     11.2|\n",
       "|2019-02-11T18:00:00| 2.4|       13|\n",
       "|2019-02-11T19:00:00| 2.1|     11.9|\n",
       "+-------------------+----+---------+\n",
       "only showing top 20 rows"
      ]
     },
     "execution_count": 51,
     "metadata": {},
     "output_type": "execute_result"
    }
   ],
   "source": [
    "# get the data for new york\n",
    "weather = spark.read.option(\"header\",True).csv(\"../../mast30034-project-1-janggani/data/raw/nyc\")\n",
    "\n",
    "# take columns with relevant data(date time, temperature, feels like, humidity, windspeed)\n",
    "weather_r = weather.select(\"datetime\", \"temp\", \"windspeed\")\n",
    "weather_r"
   ]
  },
  {
   "cell_type": "code",
   "execution_count": 52,
   "id": "428cc7da",
   "metadata": {},
   "outputs": [
    {
     "data": {
      "text/html": [
       "<table border='1'>\n",
       "<tr><th>datetime</th><th>temp_f</th><th>wind speed</th></tr>\n",
       "<tr><td>2019-02-11T00:00:00</td><td>33.8</td><td>3.36</td></tr>\n",
       "<tr><td>2019-02-11T01:00:00</td><td>33.98</td><td>5.34</td></tr>\n",
       "<tr><td>2019-02-11T02:00:00</td><td>31.64</td><td>0.0</td></tr>\n",
       "<tr><td>2019-02-11T03:00:00</td><td>31.82</td><td>6.09</td></tr>\n",
       "<tr><td>2019-02-11T04:00:00</td><td>30.56</td><td>7.77</td></tr>\n",
       "<tr><td>2019-02-11T05:00:00</td><td>30.56</td><td>5.16</td></tr>\n",
       "<tr><td>2019-02-11T06:00:00</td><td>30.38</td><td>5.34</td></tr>\n",
       "<tr><td>2019-02-11T07:00:00</td><td>31.1</td><td>4.16</td></tr>\n",
       "<tr><td>2019-02-11T08:00:00</td><td>32.18</td><td>3.36</td></tr>\n",
       "<tr><td>2019-02-11T09:00:00</td><td>33.08</td><td>5.84</td></tr>\n",
       "<tr><td>2019-02-11T10:00:00</td><td>33.98</td><td>8.7</td></tr>\n",
       "<tr><td>2019-02-11T11:00:00</td><td>35.42</td><td>8.89</td></tr>\n",
       "<tr><td>2019-02-11T12:00:00</td><td>35.78</td><td>11.25</td></tr>\n",
       "<tr><td>2019-02-11T13:00:00</td><td>36.5</td><td>9.38</td></tr>\n",
       "<tr><td>2019-02-11T14:00:00</td><td>35.96</td><td>9.82</td></tr>\n",
       "<tr><td>2019-02-11T15:00:00</td><td>37.04</td><td>8.08</td></tr>\n",
       "<tr><td>2019-02-11T16:00:00</td><td>37.22</td><td>6.03</td></tr>\n",
       "<tr><td>2019-02-11T17:00:00</td><td>36.86</td><td>6.96</td></tr>\n",
       "<tr><td>2019-02-11T18:00:00</td><td>36.32</td><td>8.08</td></tr>\n",
       "<tr><td>2019-02-11T19:00:00</td><td>35.78</td><td>7.39</td></tr>\n",
       "</table>\n",
       "only showing top 20 rows\n"
      ],
      "text/plain": [
       "+-------------------+------+----------+\n",
       "|           datetime|temp_f|wind speed|\n",
       "+-------------------+------+----------+\n",
       "|2019-02-11T00:00:00|  33.8|      3.36|\n",
       "|2019-02-11T01:00:00| 33.98|      5.34|\n",
       "|2019-02-11T02:00:00| 31.64|       0.0|\n",
       "|2019-02-11T03:00:00| 31.82|      6.09|\n",
       "|2019-02-11T04:00:00| 30.56|      7.77|\n",
       "|2019-02-11T05:00:00| 30.56|      5.16|\n",
       "|2019-02-11T06:00:00| 30.38|      5.34|\n",
       "|2019-02-11T07:00:00|  31.1|      4.16|\n",
       "|2019-02-11T08:00:00| 32.18|      3.36|\n",
       "|2019-02-11T09:00:00| 33.08|      5.84|\n",
       "|2019-02-11T10:00:00| 33.98|       8.7|\n",
       "|2019-02-11T11:00:00| 35.42|      8.89|\n",
       "|2019-02-11T12:00:00| 35.78|     11.25|\n",
       "|2019-02-11T13:00:00|  36.5|      9.38|\n",
       "|2019-02-11T14:00:00| 35.96|      9.82|\n",
       "|2019-02-11T15:00:00| 37.04|      8.08|\n",
       "|2019-02-11T16:00:00| 37.22|      6.03|\n",
       "|2019-02-11T17:00:00| 36.86|      6.96|\n",
       "|2019-02-11T18:00:00| 36.32|      8.08|\n",
       "|2019-02-11T19:00:00| 35.78|      7.39|\n",
       "+-------------------+------+----------+\n",
       "only showing top 20 rows"
      ]
     },
     "execution_count": 52,
     "metadata": {},
     "output_type": "execute_result"
    }
   ],
   "source": [
    "# convert km/h of wind speed to miles per hour and switch out the data, temp is in celcius\n",
    "weather_new = weather_r.withColumn('wind speed',(col(\"windspeed\")/1.609344)).withColumn('temp_f',(col(\"temp\")*1.8 +32))\n",
    "weather_new = weather_new.withColumn(\"wind speed\", F.round(weather_new[\"wind speed\"], 2)).withColumn(\"temp_f\", F.round(weather_new[\"temp_f\"], 2))\n",
    "weather_new = weather_new.select(\"datetime\", \"temp_f\",\"wind speed\") \n",
    "weather_new"
   ]
  },
  {
   "cell_type": "code",
   "execution_count": 53,
   "id": "4596022d",
   "metadata": {},
   "outputs": [],
   "source": [
    "# get the specific hours and place them in a new column and specific date\n",
    "weather_news = weather_new.withColumn(\"hour\", hour(col(\"datetime\")))"
   ]
  },
  {
   "cell_type": "code",
   "execution_count": 54,
   "id": "9c3db104",
   "metadata": {},
   "outputs": [],
   "source": [
    "# get the date \n",
    "weather_news = weather_news.withColumn(\"date\", weather_news.datetime.substr(1,10))"
   ]
  },
  {
   "cell_type": "code",
   "execution_count": 55,
   "id": "61808e75",
   "metadata": {
    "scrolled": true
   },
   "outputs": [
    {
     "data": {
      "text/html": [
       "<table border='1'>\n",
       "<tr><th>datetime</th><th>temp_f</th><th>wind speed</th><th>hour</th><th>date</th></tr>\n",
       "<tr><td>2019-02-11 00:00:00</td><td>33.8</td><td>3.36</td><td>0</td><td>2019-02-11</td></tr>\n",
       "<tr><td>2019-02-11 01:00:00</td><td>33.98</td><td>5.34</td><td>1</td><td>2019-02-11</td></tr>\n",
       "<tr><td>2019-02-11 02:00:00</td><td>31.64</td><td>0.0</td><td>2</td><td>2019-02-11</td></tr>\n",
       "<tr><td>2019-02-11 03:00:00</td><td>31.82</td><td>6.09</td><td>3</td><td>2019-02-11</td></tr>\n",
       "<tr><td>2019-02-11 04:00:00</td><td>30.56</td><td>7.77</td><td>4</td><td>2019-02-11</td></tr>\n",
       "<tr><td>2019-02-11 05:00:00</td><td>30.56</td><td>5.16</td><td>5</td><td>2019-02-11</td></tr>\n",
       "<tr><td>2019-02-11 06:00:00</td><td>30.38</td><td>5.34</td><td>6</td><td>2019-02-11</td></tr>\n",
       "<tr><td>2019-02-11 07:00:00</td><td>31.1</td><td>4.16</td><td>7</td><td>2019-02-11</td></tr>\n",
       "<tr><td>2019-02-11 08:00:00</td><td>32.18</td><td>3.36</td><td>8</td><td>2019-02-11</td></tr>\n",
       "<tr><td>2019-02-11 09:00:00</td><td>33.08</td><td>5.84</td><td>9</td><td>2019-02-11</td></tr>\n",
       "<tr><td>2019-02-11 10:00:00</td><td>33.98</td><td>8.7</td><td>10</td><td>2019-02-11</td></tr>\n",
       "<tr><td>2019-02-11 11:00:00</td><td>35.42</td><td>8.89</td><td>11</td><td>2019-02-11</td></tr>\n",
       "<tr><td>2019-02-11 12:00:00</td><td>35.78</td><td>11.25</td><td>12</td><td>2019-02-11</td></tr>\n",
       "<tr><td>2019-02-11 13:00:00</td><td>36.5</td><td>9.38</td><td>13</td><td>2019-02-11</td></tr>\n",
       "<tr><td>2019-02-11 14:00:00</td><td>35.96</td><td>9.82</td><td>14</td><td>2019-02-11</td></tr>\n",
       "<tr><td>2019-02-11 15:00:00</td><td>37.04</td><td>8.08</td><td>15</td><td>2019-02-11</td></tr>\n",
       "<tr><td>2019-02-11 16:00:00</td><td>37.22</td><td>6.03</td><td>16</td><td>2019-02-11</td></tr>\n",
       "<tr><td>2019-02-11 17:00:00</td><td>36.86</td><td>6.96</td><td>17</td><td>2019-02-11</td></tr>\n",
       "<tr><td>2019-02-11 18:00:00</td><td>36.32</td><td>8.08</td><td>18</td><td>2019-02-11</td></tr>\n",
       "<tr><td>2019-02-11 19:00:00</td><td>35.78</td><td>7.39</td><td>19</td><td>2019-02-11</td></tr>\n",
       "</table>\n",
       "only showing top 20 rows\n"
      ],
      "text/plain": [
       "+-------------------+------+----------+----+----------+\n",
       "|           datetime|temp_f|wind speed|hour|      date|\n",
       "+-------------------+------+----------+----+----------+\n",
       "|2019-02-11 00:00:00|  33.8|      3.36|   0|2019-02-11|\n",
       "|2019-02-11 01:00:00| 33.98|      5.34|   1|2019-02-11|\n",
       "|2019-02-11 02:00:00| 31.64|       0.0|   2|2019-02-11|\n",
       "|2019-02-11 03:00:00| 31.82|      6.09|   3|2019-02-11|\n",
       "|2019-02-11 04:00:00| 30.56|      7.77|   4|2019-02-11|\n",
       "|2019-02-11 05:00:00| 30.56|      5.16|   5|2019-02-11|\n",
       "|2019-02-11 06:00:00| 30.38|      5.34|   6|2019-02-11|\n",
       "|2019-02-11 07:00:00|  31.1|      4.16|   7|2019-02-11|\n",
       "|2019-02-11 08:00:00| 32.18|      3.36|   8|2019-02-11|\n",
       "|2019-02-11 09:00:00| 33.08|      5.84|   9|2019-02-11|\n",
       "|2019-02-11 10:00:00| 33.98|       8.7|  10|2019-02-11|\n",
       "|2019-02-11 11:00:00| 35.42|      8.89|  11|2019-02-11|\n",
       "|2019-02-11 12:00:00| 35.78|     11.25|  12|2019-02-11|\n",
       "|2019-02-11 13:00:00|  36.5|      9.38|  13|2019-02-11|\n",
       "|2019-02-11 14:00:00| 35.96|      9.82|  14|2019-02-11|\n",
       "|2019-02-11 15:00:00| 37.04|      8.08|  15|2019-02-11|\n",
       "|2019-02-11 16:00:00| 37.22|      6.03|  16|2019-02-11|\n",
       "|2019-02-11 17:00:00| 36.86|      6.96|  17|2019-02-11|\n",
       "|2019-02-11 18:00:00| 36.32|      8.08|  18|2019-02-11|\n",
       "|2019-02-11 19:00:00| 35.78|      7.39|  19|2019-02-11|\n",
       "+-------------------+------+----------+----+----------+\n",
       "only showing top 20 rows"
      ]
     },
     "execution_count": 55,
     "metadata": {},
     "output_type": "execute_result"
    }
   ],
   "source": [
    "# remove the T in all the dates \n",
    "weather_curated = weather_news.withColumn('datetime', F.regexp_replace('datetime', 'T', ' '))\n",
    "weather_curated"
   ]
  },
  {
   "cell_type": "code",
   "execution_count": 56,
   "id": "79c32864",
   "metadata": {},
   "outputs": [],
   "source": [
    "weather_curated = weather_curated.select(\"date\", \"hour\", \"temp_f\", \"wind speed\") "
   ]
  },
  {
   "cell_type": "code",
   "execution_count": 57,
   "id": "21cfeb7b",
   "metadata": {},
   "outputs": [],
   "source": [
    "# get data for date hour column for weather\n",
    "weather_dh = weather_curated.select(concat_ws(' ', weather_curated.date, weather_curated.hour).alias(\"date hour\"), \"temp_f\", \"wind speed\")\n",
    "\n",
    "# find mean temperature daily\n",
    "weather_daily = (weather_curated\n",
    "            .groupBy(\"date\")\n",
    "            .agg(round(mean(\"temp_f\"), 2).alias(\"temp\"),\n",
    "                round(mean(\"wind speed\"), 2).alias(\"wind speed\"))\n",
    "            .orderBy(\"date\")\n",
    "           )\n"
   ]
  },
  {
   "cell_type": "code",
   "execution_count": 58,
   "id": "d4b325f7",
   "metadata": {},
   "outputs": [
    {
     "name": "stdout",
     "output_type": "stream",
     "text": [
      "22/08/24 21:47:34 WARN HeartbeatReceiver: Removing executor driver with no recent heartbeats: 924288 ms exceeds timeout 120000 ms\n",
      "22/08/24 21:47:34 WARN SparkContext: Killing executors is not supported by current scheduler.\n"
     ]
    }
   ],
   "source": [
    "weather_daily.write.mode(\"overwrite\").parquet(\"../../mast30034-project-1-janggani/data/curated/weather/weather_daily.parquet\")\n",
    "weather_dh.write.mode(\"overwrite\").parquet(\"../../mast30034-project-1-janggani/data/curated/weather/weather_dh.parquet\")"
   ]
  }
 ],
 "metadata": {
  "kernelspec": {
   "display_name": "Python 3 (ipykernel)",
   "language": "python",
   "name": "python3"
  },
  "language_info": {
   "codemirror_mode": {
    "name": "ipython",
    "version": 3
   },
   "file_extension": ".py",
   "mimetype": "text/x-python",
   "name": "python",
   "nbconvert_exporter": "python",
   "pygments_lexer": "ipython3",
   "version": "3.9.7"
  }
 },
 "nbformat": 4,
 "nbformat_minor": 5
}
