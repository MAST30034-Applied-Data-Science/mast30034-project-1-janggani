{
 "cells": [
  {
   "cell_type": "markdown",
   "id": "f7047a3f",
   "metadata": {},
   "source": [
    "This notebook consists of the preprocessing of the raw yellow and green taxi data of New York City (NYC) during January 2019-June 2019, the two parquet files obtained would be the hourly data and the daily data of the taxi rides"
   ]
  },
  {
   "cell_type": "code",
   "execution_count": 48,
   "id": "a402e0ad",
   "metadata": {},
   "outputs": [],
   "source": [
    "import os\n",
    "\n",
    "# from the current `tute_1` directory, go back two levels to the `MAST30034 project` directory\n",
    "output_relative_dir = '../../mast30034-project-1-janggani/data/raw/'\n",
    "\n",
    "# check if it exists as it makedir will raise an error if it does exist\n",
    "if not os.path.exists(output_relative_dir):\n",
    "    os.makedirs(output_relative_dir)\n",
    "    \n",
    "# now, for each type of data set we will need, we will create the paths\n",
    "for target_dir in ('yellow', 'green'): # should already exist\n",
    "    if not os.path.exists(output_relative_dir + target_dir):\n",
    "        os.makedirs(output_relative_dir + target_dir)"
   ]
  },
  {
   "cell_type": "code",
   "execution_count": 49,
   "id": "d1053be4",
   "metadata": {},
   "outputs": [],
   "source": [
    "from pyspark.sql import SparkSession\n",
    "from pyspark.sql.functions import *\n",
    "from pyspark.sql import functions as F\n",
    "\n",
    "# Create a spark session (which will run spark jobs)\n",
    "spark = (\n",
    "    SparkSession.builder.appName(\"MAST30034 P1 PT\") # P1 PT stands for project 1 preprocess taxi\n",
    "    .config(\"spark.sql.repl.eagerEval.enabled\", True) \n",
    "    .config(\"spark.sql.parquet.cacheMetadata\", \"true\")\n",
    "    .config(\"spark.sql.session.timeZone\", \"Etc/UTC\") # ensure time zone isn't changed to Australian\n",
    "    .config(\"spark.executor.memory\", \"2g\")\n",
    "    .config(\"spark.driver.memory\", \"4g\")\n",
    "    .getOrCreate()\n",
    ")\n"
   ]
  },
  {
   "cell_type": "code",
   "execution_count": 50,
   "id": "36a12a89",
   "metadata": {},
   "outputs": [],
   "source": [
    "# get the yellow taxi data for jan 2019-june 2019\n",
    "yellow = spark.read.parquet('../../mast30034-project-1-janggani/data/raw/yellow')\n",
    "green = spark.read.parquet('../../mast30034-project-1-janggani/data/raw/green')"
   ]
  },
  {
   "cell_type": "code",
   "execution_count": 51,
   "id": "d8601a39",
   "metadata": {},
   "outputs": [
    {
     "name": "stderr",
     "output_type": "stream",
     "text": [
      "                                                                                \r"
     ]
    },
    {
     "data": {
      "text/plain": [
       "(43358435, 3231991)"
      ]
     },
     "execution_count": 51,
     "metadata": {},
     "output_type": "execute_result"
    }
   ],
   "source": [
    "# remove null values in passenger count\n",
    "\n",
    "yellow_t = yellow.select(\"tpep_pickup_datetime\", \"tpep_dropoff_datetime\", \n",
    "                            \"passenger_count\", \"trip_distance\")\n",
    "\n",
    "green_t = green.select(\"lpep_pickup_datetime\", \"lpep_dropoff_datetime\", \n",
    "                            \"passenger_count\", \"trip_distance\")\n",
    "\n",
    "# remove rows with null values\n",
    "yellow_t = yellow_t.dropna()\n",
    "green_t = green_t.dropna()\n",
    "\n",
    "# make sure pickup time ranges from 2019 only\n",
    "yellow_t = yellow_t.filter(F.col('tpep_pickup_datetime') > \"2018-12-31 23:59:59\")\n",
    "green_t = green_t.filter(F.col('lpep_pickup_datetime') > \"2018-12-31 23:59:59\")\n",
    "\n",
    "# remove 0 passengers and 0 trip distance as they may be errors or bugs\n",
    "from pyspark.sql import functions as F\n",
    "yellow_t = yellow_t.filter((F.col('passenger_count') >0) & (F.col('trip_distance') > 0))\n",
    "green_t = green_t.filter((F.col('passenger_count')>0) & (F.col('trip_distance') > 0))\n",
    "\n",
    "yellow_t.count(), green_t.count()"
   ]
  },
  {
   "cell_type": "code",
   "execution_count": 52,
   "id": "bcf4f84b",
   "metadata": {},
   "outputs": [],
   "source": [
    "# insert new column with trip duration in minutes and round it to 2 decimal points\n",
    "yellow_new = yellow_t.withColumn('trip_duration_min',(col(\"tpep_dropoff_datetime\").cast(\"long\") - col('tpep_pickup_datetime').cast(\"long\"))/60)\n",
    "yellow_new = yellow_new.withColumn(\"trip_duration_min\", F.round(yellow_new[\"trip_duration_min\"], 2))\n",
    "\n",
    "green_new = green_t.withColumn('trip_duration_min',(col(\"lpep_dropoff_datetime\").cast(\"long\") - col('lpep_pickup_datetime').cast(\"long\"))/60)\n",
    "green_new = green_new.withColumn(\"trip_duration_min\", F.round(green_new[\"trip_duration_min\"], 2))\n",
    "\n"
   ]
  },
  {
   "cell_type": "code",
   "execution_count": 53,
   "id": "dafb8d24",
   "metadata": {},
   "outputs": [],
   "source": [
    "# insert new column with pickup hour \n",
    "yellow_curated = yellow_new.withColumn(\"hour\", hour(col(\"tpep_pickup_datetime\")))\n",
    "green_curated = green_new.withColumn(\"hour\", hour(col(\"lpep_pickup_datetime\")))\n",
    "\n",
    "# new column with pickup date\n",
    "yellow_curated = yellow_curated.withColumn(\"date\", yellow_curated.tpep_pickup_datetime\t.substr(1,10))\n",
    "green_curated = green_curated.withColumn(\"date\", green_curated.lpep_pickup_datetime\t.substr(1,10))\n",
    "\n",
    "# get the necessary columns\n",
    "yellow_curated = yellow_curated.select(\"date\", \"hour\", \"trip_distance\", \"trip_duration_min\")\n",
    "green_curated = green_curated.select(\"date\", \"hour\", \"trip_distance\", \"trip_duration_min\")\n"
   ]
  },
  {
   "cell_type": "code",
   "execution_count": 54,
   "id": "0cb6764a",
   "metadata": {},
   "outputs": [],
   "source": [
    "# get mean values for all columns per day and hour\n",
    "yellow_mean = (yellow_curated\n",
    "            .groupBy(F.col(\"hour\"), F.col(\"date\"))\n",
    "            .agg(round(mean(\"trip_distance\"), 2).alias(\"distance\"), \n",
    "                 round(mean(\"trip_duration_min\"), 2).alias(\"duration\"))\n",
    "            .orderBy(\"date\",\"hour\")\n",
    "           )\n",
    "\n",
    "green_mean = (green_curated\n",
    "            .groupBy(F.col(\"hour\"), F.col(\"date\"))\n",
    "            .agg(round(mean(\"trip_distance\"), 2).alias(\"distance\"),\n",
    "                round(mean(\"trip_duration_min\"), 2).alias(\"duration\"))\n",
    "            .orderBy(\"date\",\"hour\")\n",
    "           )"
   ]
  },
  {
   "cell_type": "code",
   "execution_count": 55,
   "id": "da4972aa",
   "metadata": {},
   "outputs": [],
   "source": [
    "# combine hour and date columns into one new column\n",
    "green_dh = green_mean.select(concat_ws(' ', green_mean.date, green_mean.hour).alias(\"date hour\"), \"distance\", \"duration\")\n",
    "yellow_dh = yellow_mean.select(concat_ws(' ', yellow_mean.date, yellow_mean.hour).alias(\"date hour\"), \"distance\", \"duration\")"
   ]
  },
  {
   "cell_type": "code",
   "execution_count": 56,
   "id": "a535e3d8",
   "metadata": {},
   "outputs": [
    {
     "name": "stderr",
     "output_type": "stream",
     "text": [
      "                                                                                \r"
     ]
    },
    {
     "name": "stdout",
     "output_type": "stream",
     "text": [
      "22/08/24 18:39:41 WARN HeartbeatReceiver: Removing executor driver with no recent heartbeats: 895735 ms exceeds timeout 120000 ms\n",
      "22/08/24 18:39:41 WARN SparkContext: Killing executors is not supported by current scheduler.\n"
     ]
    }
   ],
   "source": [
    "yellow_curated.write.mode(\"overwrite\").parquet(\"../../mast30034-project-1-janggani/data/curated/yellow/yellow_c.parquet\")\n",
    "yellow_dh.write.mode(\"overwrite\").parquet(\"../../mast30034-project-1-janggani/data/curated/yellow/yellow_dh.parquet\")\\\n",
    "\n",
    "green_curated.write.mode(\"overwrite\").parquet(\"../../mast30034-project-1-janggani/data/curated/green/green_c.parquet\")\n",
    "green_dh.write.mode(\"overwrite\").parquet(\"../../mast30034-project-1-janggani/data/curated/green/green_dh.parquet\")"
   ]
  }
 ],
 "metadata": {
  "kernelspec": {
   "display_name": "Python 3 (ipykernel)",
   "language": "python",
   "name": "python3"
  },
  "language_info": {
   "codemirror_mode": {
    "name": "ipython",
    "version": 3
   },
   "file_extension": ".py",
   "mimetype": "text/x-python",
   "name": "python",
   "nbconvert_exporter": "python",
   "pygments_lexer": "ipython3",
   "version": "3.9.7"
  }
 },
 "nbformat": 4,
 "nbformat_minor": 5
}
