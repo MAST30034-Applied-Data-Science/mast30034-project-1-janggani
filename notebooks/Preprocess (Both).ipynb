{
 "cells": [
  {
   "cell_type": "markdown",
   "id": "0562132a",
   "metadata": {},
   "source": [
    "Create parquet files that are merged from yellow and green taxis to weather"
   ]
  },
  {
   "cell_type": "code",
   "execution_count": 3,
   "id": "065a50f3",
   "metadata": {},
   "outputs": [],
   "source": [
    "from pyspark.sql import SparkSession\n",
    "from pyspark.sql.functions import *\n",
    "from pyspark.sql import functions as F\n",
    "\n",
    "# Create a spark session (which will run spark jobs)\n",
    "spark = (\n",
    "    SparkSession.builder.appName(\"MAST30034 Project 1\")\n",
    "    .config(\"spark.sql.repl.eagerEval.enabled\", True) \n",
    "    .config(\"spark.sql.parquet.cacheMetadata\", \"true\")\n",
    "    .config(\"spark.sql.session.timeZone\", \"Etc/UTC\") # ensure time zone isn't changed to Australian\n",
    "    .config(\"spark.executor.memory\", \"2g\")\n",
    "    .config(\"spark.driver.memory\", \"4g\")\n",
    "    .getOrCreate()\n",
    ")"
   ]
  },
  {
   "cell_type": "code",
   "execution_count": 4,
   "id": "6cdf7ec2",
   "metadata": {},
   "outputs": [],
   "source": [
    "yellow = spark.read.parquet('../../mast30034-project-1-janggani/data/curated/yellow/yellow_dh.parquet')\n",
    "weather = spark.read.parquet('../../mast30034-project-1-janggani/data/curated/weather/weather_dh.parquet')\n",
    "weather_d = spark.read.parquet('../../mast30034-project-1-janggani/data/curated/weather/weather_daily.parquet')\n",
    "green = spark.read.parquet('../../mast30034-project-1-janggani/data/curated/green/green_dh.parquet')"
   ]
  },
  {
   "cell_type": "code",
   "execution_count": 5,
   "id": "93ac3538",
   "metadata": {},
   "outputs": [],
   "source": [
    "yellow_w = yellow.join(weather ,['date hour'],how='inner')\n",
    "green_w = green.join(weather ,['date hour'],how='inner')"
   ]
  },
  {
   "cell_type": "code",
   "execution_count": 6,
   "id": "64e5e630",
   "metadata": {},
   "outputs": [],
   "source": [
    "yellow_w.write.mode(\"overwrite\").parquet(\"../../mast30034-project-1-janggani/data/curated/yellow/yellow_w.parquet\")\n",
    "green_w.write.mode(\"overwrite\").parquet(\"../../mast30034-project-1-janggani/data/curated/green/green_w.parquet\")"
   ]
  }
 ],
 "metadata": {
  "kernelspec": {
   "display_name": "Python 3 (ipykernel)",
   "language": "python",
   "name": "python3"
  },
  "language_info": {
   "codemirror_mode": {
    "name": "ipython",
    "version": 3
   },
   "file_extension": ".py",
   "mimetype": "text/x-python",
   "name": "python",
   "nbconvert_exporter": "python",
   "pygments_lexer": "ipython3",
   "version": "3.9.7"
  }
 },
 "nbformat": 4,
 "nbformat_minor": 5
}
