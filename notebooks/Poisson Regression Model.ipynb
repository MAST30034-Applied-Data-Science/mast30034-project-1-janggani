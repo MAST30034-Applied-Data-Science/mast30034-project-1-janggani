{
 "cells": [
  {
   "cell_type": "code",
   "execution_count": 3,
   "id": "7904b28a",
   "metadata": {},
   "outputs": [],
   "source": [
    "from pyspark.ml.regression import GeneralizedLinearRegression\n",
    "from pyspark import SparkContext\n",
    "from pyspark.sql import SQLContext\n",
    "from pyspark.ml.feature import VectorAssembler\n",
    "from pyspark.ml.evaluation import RegressionEvaluator\n",
    "from sklearn.datasets import load_boston\n",
    "import pandas as pd\n",
    "import matplotlib.pyplot as plt\n",
    "from pyspark.sql import SparkSession\n",
    "\n",
    "# Create a spark session (which will run spark jobs)\n",
    "spark = (\n",
    "    SparkSession.builder.appName(\"MAST30034 Project 1\")\n",
    "    .config(\"spark.sql.repl.eagerEval.enabled\", True) \n",
    "    .config(\"spark.sql.parquet.cacheMetadata\", \"true\")\n",
    "    .config(\"spark.sql.session.timeZone\", \"Etc/UTC\") # ensure time zone isn't changed to Australian\n",
    "    .config(\"spark.executor.memory\", \"2g\")\n",
    "    .config(\"spark.driver.memory\", \"4g\")\n",
    "    .getOrCreate()\n",
    ")"
   ]
  },
  {
   "cell_type": "code",
   "execution_count": 4,
   "id": "e5a0a2ea",
   "metadata": {},
   "outputs": [],
   "source": [
    "yellow = pd.read_parquet('../../mast30034-project-1-janggani/data/curated/yellow/yellow_w.parquet')\n",
    "green = pd.read_parquet('../../mast30034-project-1-janggani/data/curated/green/green_w.parquet')\n",
    "\n",
    "yellow_use = yellow[[\"temp_f\", \"wind speed\", \"distance\"]]\n",
    "green_use = green[[\"temp_f\", \"wind speed\", \"distance\"]]"
   ]
  },
  {
   "cell_type": "code",
   "execution_count": 6,
   "id": "a7133d0c",
   "metadata": {},
   "outputs": [],
   "source": [
    "sqlContext = SQLContext(spark)"
   ]
  },
  {
   "cell_type": "code",
   "execution_count": 7,
   "id": "bdf53743",
   "metadata": {},
   "outputs": [],
   "source": [
    "yellow_data = sqlContext.createDataFrame(yellow_use)\n",
    "green_data = sqlContext.createDataFrame(green_use)"
   ]
  },
  {
   "cell_type": "code",
   "execution_count": 8,
   "id": "47393def",
   "metadata": {},
   "outputs": [],
   "source": [
    "features = [\"temp_f\", \"wind speed\"]\n",
    "\n",
    "va = VectorAssembler(inputCols = features, outputCol='features')\n",
    "va_y = va.transform(yellow_data)\n",
    "va_g = va.transform(green_data)\n",
    "va_y = va_y.select(['features', 'distance'])\n",
    "va_g = va_g.select(['features', 'distance'])"
   ]
  },
  {
   "cell_type": "code",
   "execution_count": 9,
   "id": "4187d443",
   "metadata": {},
   "outputs": [],
   "source": [
    "train_y, test_y = va_y.randomSplit([0.9,0.1])\n",
    "train_g, test_g = va_g.randomSplit([0.9,0.1])\n",
    "glr=GeneralizedLinearRegression(labelCol=\"distance\",family=\"poisson\",maxIter=10,regParam=0.3)"
   ]
  },
  {
   "cell_type": "code",
   "execution_count": 12,
   "id": "f88a0402",
   "metadata": {},
   "outputs": [
    {
     "name": "stdout",
     "output_type": "stream",
     "text": [
      "Coefficients:\n",
      "    Feature Estimate Std Error T Value P Value\n",
      "(Intercept)   1.2249    0.0373 32.8202  0.0000\n",
      "     temp_f   0.0001    0.0006  0.0958  0.9237\n",
      " wind speed  -0.0051    0.0017 -2.9232  0.0035\n",
      "\n",
      "(Dispersion parameter for poisson family taken to be 1.0000)\n",
      "    Null deviance: 589.3991 on 3951 degrees of freedom\n",
      "Residual deviance: 579.2564 on 3951 degrees of freedom\n",
      "AIC: 12588.0649\n"
     ]
    }
   ],
   "source": [
    "model_y = glr.fit(train_y)\n",
    "model_g = glr.fit(train_g)\n",
    "\n",
    "print(str(model_y.summary))"
   ]
  },
  {
   "cell_type": "code",
   "execution_count": 13,
   "id": "5b3a289c",
   "metadata": {},
   "outputs": [
    {
     "name": "stdout",
     "output_type": "stream",
     "text": [
      "Coefficients:\n",
      "    Feature Estimate Std Error T Value P Value\n",
      "(Intercept)   1.5035    0.0363 41.4266  0.0000\n",
      "     temp_f  -0.0048    0.0006 -8.5846  0.0000\n",
      " wind speed  -0.0044    0.0017 -2.5895  0.0096\n",
      "\n",
      "(Dispersion parameter for poisson family taken to be 1.0000)\n",
      "    Null deviance: 862.2615 on 3912 degrees of freedom\n",
      "Residual deviance: 787.7896 on 3912 degrees of freedom\n",
      "AIC: 12879.9138\n"
     ]
    }
   ],
   "source": [
    "print(str(model_g.summary))"
   ]
  },
  {
   "cell_type": "code",
   "execution_count": 14,
   "id": "4ba14b0b",
   "metadata": {},
   "outputs": [],
   "source": [
    "tdata_y = model_y.transform(test_y)\n",
    "tdata_g = model_g.transform(test_g)"
   ]
  },
  {
   "cell_type": "code",
   "execution_count": 15,
   "id": "bfd8f2cc",
   "metadata": {},
   "outputs": [],
   "source": [
    "#mean absolute error\n",
    "mae = RegressionEvaluator(labelCol=\"distance\", predictionCol=\"prediction\", metricName=\"mae\")\n",
    "mae_g = mae.evaluate(tdata_g)\n",
    "mae_y = mae.evaluate(tdata_y)"
   ]
  },
  {
   "cell_type": "code",
   "execution_count": 16,
   "id": "bc576281",
   "metadata": {},
   "outputs": [],
   "source": [
    "# mean standard error\n",
    "mse = RegressionEvaluator(labelCol=\"distance\", predictionCol=\"prediction\", metricName=\"mse\")\n",
    "mse_g = mse.evaluate(tdata_g)\n",
    "mse_y = mse.evaluate(tdata_y)"
   ]
  },
  {
   "cell_type": "code",
   "execution_count": 17,
   "id": "5b7abe8d",
   "metadata": {},
   "outputs": [],
   "source": [
    "# r squared\n",
    "r2 = RegressionEvaluator(labelCol=\"distance\", predictionCol=\"prediction\", metricName=\"r2\")\n",
    "r2_g = r2.evaluate(tdata_g)\n",
    "r2_y = r2.evaluate(tdata_y)"
   ]
  },
  {
   "cell_type": "code",
   "execution_count": 18,
   "id": "90657c35",
   "metadata": {},
   "outputs": [
    {
     "name": "stdout",
     "output_type": "stream",
     "text": [
      "0.6202482800827293 0.7779631283523001 0.09204806102665819\n"
     ]
    }
   ],
   "source": [
    "print(mae_g, mse_g, r2_g)"
   ]
  },
  {
   "cell_type": "code",
   "execution_count": 19,
   "id": "abc4828b",
   "metadata": {},
   "outputs": [
    {
     "name": "stdout",
     "output_type": "stream",
     "text": [
      "0.5118804458424704 0.4893811498000824 -0.005010740557852111\n"
     ]
    }
   ],
   "source": [
    "print(mae_y, mse_y, r2_y)"
   ]
  }
 ],
 "metadata": {
  "kernelspec": {
   "display_name": "Python 3 (ipykernel)",
   "language": "python",
   "name": "python3"
  },
  "language_info": {
   "codemirror_mode": {
    "name": "ipython",
    "version": 3
   },
   "file_extension": ".py",
   "mimetype": "text/x-python",
   "name": "python",
   "nbconvert_exporter": "python",
   "pygments_lexer": "ipython3",
   "version": "3.9.7"
  }
 },
 "nbformat": 4,
 "nbformat_minor": 5
}
