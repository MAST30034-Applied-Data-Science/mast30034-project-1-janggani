{
 "cells": [
  {
   "cell_type": "markdown",
   "id": "3934e22c",
   "metadata": {},
   "source": [
    "Fit a linear regression model and decision tree regression model with code adapted from https://medium.com/international-school-of-ai-data-science/linear-regression-with-pyspark-c5e2d0012072"
   ]
  },
  {
   "cell_type": "code",
   "execution_count": 2,
   "id": "e2f290da",
   "metadata": {},
   "outputs": [],
   "source": [
    "from pyspark.sql import SparkSession\n",
    "from pyspark.sql.functions import *\n",
    "from pyspark.sql import functions as F\n",
    "from pyspark.ml.feature import VectorAssembler\n",
    "from pyspark.ml.regression import LinearRegression\n",
    "\n",
    "# Create a spark session (which will run spark jobs)\n",
    "spark = (\n",
    "    SparkSession.builder.appName(\"MAST30034 Project 1\")\n",
    "    .config(\"spark.sql.repl.eagerEval.enabled\", True) \n",
    "    .config(\"spark.sql.parquet.cacheMetadata\", \"true\")\n",
    "    .config(\"spark.sql.session.timeZone\", \"Etc/UTC\") # ensure time zone isn't changed to Australian\n",
    "    .config(\"spark.executor.memory\", \"2g\")\n",
    "    .config(\"spark.driver.memory\", \"4g\")\n",
    "    .getOrCreate()\n",
    ")"
   ]
  },
  {
   "cell_type": "code",
   "execution_count": 3,
   "id": "cbf42a5e",
   "metadata": {},
   "outputs": [],
   "source": [
    "# read yellow and green hourly data merged with weather\n",
    "yellow = spark.read.parquet('../../mast30034-project-1-janggani/data/curated/yellow/yellow_w.parquet', inferSchema=True, header =True)\n",
    "green = spark.read.parquet('../../mast30034-project-1-janggani/data/curated/green/green_w.parquet', inferSchema=True, header =True)\n",
    "\n",
    "yellow_data = yellow.select(\"temp_f\", \"wind speed\", \"distance\")\n",
    "green_data = green.select(\"temp_f\", \"wind speed\", \"distance\")"
   ]
  },
  {
   "cell_type": "code",
   "execution_count": 4,
   "id": "15526623",
   "metadata": {},
   "outputs": [],
   "source": [
    "# use vector assembler\n",
    "features = [\"temp_f\", \"wind speed\"]\n",
    "output_c = \"Temperature and Wind Speed\"\n",
    "featureassembler = VectorAssembler(inputCols = features, outputCol = output_c)\n",
    "\n",
    "# get output\n",
    "output_y = featureassembler.transform(yellow_data)\n",
    "output_g = featureassembler.transform(green_data)\n",
    "# select input and output\n",
    "final_y = output_y.select(output_c, \"distance\")\n",
    "final_g = output_g.select(output_c, \"distance\")"
   ]
  },
  {
   "cell_type": "code",
   "execution_count": 5,
   "id": "721e9fce",
   "metadata": {},
   "outputs": [],
   "source": [
    "# split\n",
    "train_data_y, test_data_y = final_y.randomSplit([0.9,0.1])\n",
    "train_data_g, test_data_g = final_g.randomSplit([0.9,0.1])"
   ]
  },
  {
   "cell_type": "code",
   "execution_count": 7,
   "id": "f465376d",
   "metadata": {},
   "outputs": [
    {
     "name": "stdout",
     "output_type": "stream",
     "text": [
      "22/08/26 04:05:12 WARN Instrumentation: [5a6f9bf3] regParam is zero, which might cause numerical instability and overfitting.\n",
      "22/08/26 04:05:13 WARN Instrumentation: [f94240aa] regParam is zero, which might cause numerical instability and overfitting.\n"
     ]
    }
   ],
   "source": [
    "regressor = LinearRegression(featuresCol = output_c, labelCol = \"distance\")\n",
    "\n",
    "regressor_y = regressor.fit(train_data_y)\n",
    "regressor_g = regressor.fit(train_data_g)"
   ]
  },
  {
   "cell_type": "code",
   "execution_count": 8,
   "id": "8b01a555",
   "metadata": {},
   "outputs": [],
   "source": [
    "pred_y = regressor_y.evaluate(test_data_y)\n",
    "pred_g = regressor_g.evaluate(test_data_g)"
   ]
  },
  {
   "cell_type": "code",
   "execution_count": 9,
   "id": "5f341372",
   "metadata": {},
   "outputs": [
    {
     "name": "stdout",
     "output_type": "stream",
     "text": [
      "+--------------------------+--------+------------------+\n",
      "|Temperature and Wind Speed|distance|        prediction|\n",
      "+--------------------------+--------+------------------+\n",
      "|             [42.44,11.12]|    4.21|3.2169683689589643|\n",
      "|              [44.96,6.59]|    3.59|3.2954512973977823|\n",
      "|             [45.32,12.37]|    3.57|3.1958723619872194|\n",
      "|              [46.58,5.28]|    3.79| 3.318286946304629|\n",
      "|             [46.94,13.05]|    2.75| 3.184404485713751|\n",
      "+--------------------------+--------+------------------+\n",
      "only showing top 5 rows\n",
      "\n"
     ]
    }
   ],
   "source": [
    "pred_y.predictions.show(5)"
   ]
  },
  {
   "cell_type": "code",
   "execution_count": 10,
   "id": "de889b3b",
   "metadata": {},
   "outputs": [
    {
     "name": "stdout",
     "output_type": "stream",
     "text": [
      "+--------------------------+--------+------------------+\n",
      "|Temperature and Wind Speed|distance|        prediction|\n",
      "+--------------------------+--------+------------------+\n",
      "|              [18.86,7.95]|    6.79|3.9327664949393446|\n",
      "|              [20.3,19.32]|    3.67|3.7364516838604622|\n",
      "|               [24.26,0.0]|    4.56|3.9661557476349842|\n",
      "|             [24.26,17.03]|    3.58|3.7070843644685523|\n",
      "|             [24.44,11.74]|    5.01|3.7846408921368755|\n",
      "+--------------------------+--------+------------------+\n",
      "only showing top 5 rows\n",
      "\n"
     ]
    }
   ],
   "source": [
    "pred_g.predictions.show(5)"
   ]
  },
  {
   "cell_type": "code",
   "execution_count": 15,
   "id": "c7f83226",
   "metadata": {},
   "outputs": [],
   "source": [
    "mae_y = pred_y.meanAbsoluteError\n",
    "mse_y = pred_y.meanSquaredError\n",
    "r2_y = pred_y.r2"
   ]
  },
  {
   "cell_type": "code",
   "execution_count": 16,
   "id": "92a77693",
   "metadata": {},
   "outputs": [
    {
     "name": "stdout",
     "output_type": "stream",
     "text": [
      "0.5415221852589678 0.48329265452104 -0.008410419504502498\n"
     ]
    }
   ],
   "source": [
    "print(mae_y, mse_y, r2_y)"
   ]
  },
  {
   "cell_type": "code",
   "execution_count": 19,
   "id": "90376300",
   "metadata": {},
   "outputs": [],
   "source": [
    "mae_g = pred_g.meanAbsoluteError\n",
    "mse_g = pred_g.meanSquaredError\n",
    "r2_g = pred_g.r2"
   ]
  },
  {
   "cell_type": "code",
   "execution_count": 20,
   "id": "a32ac73b",
   "metadata": {},
   "outputs": [
    {
     "name": "stdout",
     "output_type": "stream",
     "text": [
      "0.6084796210480276 0.8209022233190288 0.08844721087960761\n"
     ]
    }
   ],
   "source": [
    "print(mae_g, mse_g, r2_g)"
   ]
  }
 ],
 "metadata": {
  "kernelspec": {
   "display_name": "Python 3 (ipykernel)",
   "language": "python",
   "name": "python3"
  },
  "language_info": {
   "codemirror_mode": {
    "name": "ipython",
    "version": 3
   },
   "file_extension": ".py",
   "mimetype": "text/x-python",
   "name": "python",
   "nbconvert_exporter": "python",
   "pygments_lexer": "ipython3",
   "version": "3.9.7"
  }
 },
 "nbformat": 4,
 "nbformat_minor": 5
}
