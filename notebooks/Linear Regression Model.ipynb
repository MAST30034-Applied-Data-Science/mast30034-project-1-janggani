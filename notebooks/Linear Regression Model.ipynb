{
 "cells": [
  {
   "cell_type": "markdown",
   "id": "3934e22c",
   "metadata": {},
   "source": [
    "Fit a linear regression model and decision tree regression model with code adapted from https://medium.com/international-school-of-ai-data-science/linear-regression-with-pyspark-c5e2d0012072"
   ]
  },
  {
   "cell_type": "code",
   "execution_count": 39,
   "id": "e2f290da",
   "metadata": {},
   "outputs": [],
   "source": [
    "from pyspark.sql import SparkSession\n",
    "from pyspark.sql.functions import *\n",
    "from pyspark.sql import functions as F\n",
    "from pyspark.ml.feature import VectorAssembler\n",
    "from pyspark.ml.regression import LinearRegression\n",
    "\n",
    "# Create a spark session (which will run spark jobs)\n",
    "spark = (\n",
    "    SparkSession.builder.appName(\"MAST30034 Project 1\")\n",
    "    .config(\"spark.sql.repl.eagerEval.enabled\", True) \n",
    "    .config(\"spark.sql.parquet.cacheMetadata\", \"true\")\n",
    "    .config(\"spark.sql.session.timeZone\", \"Etc/UTC\") # ensure time zone isn't changed to Australian\n",
    "    .config(\"spark.executor.memory\", \"2g\")\n",
    "    .config(\"spark.driver.memory\", \"4g\")\n",
    "    .getOrCreate()\n",
    ")"
   ]
  },
  {
   "cell_type": "code",
   "execution_count": 40,
   "id": "cbf42a5e",
   "metadata": {},
   "outputs": [],
   "source": [
    "# read yellow and green hourly data merged with weather\n",
    "yellow = spark.read.parquet('../../mast30034-project-1-janggani/data/curated/yellow/yellow_w.parquet', inferSchema=True, header =True)\n",
    "green = spark.read.parquet('../../mast30034-project-1-janggani/data/curated/green/green_w.parquet', inferSchema=True, header =True)\n",
    "\n",
    "yellow_data = yellow.select(\"temp_f\", \"wind speed\", \"distance\")\n",
    "green_data = green.select(\"temp_f\", \"wind speed\", \"distance\")"
   ]
  },
  {
   "cell_type": "code",
   "execution_count": 41,
   "id": "15526623",
   "metadata": {},
   "outputs": [],
   "source": [
    "# use vector assembler\n",
    "features = [\"temp_f\", \"wind speed\"]\n",
    "output_c = \"Temperature and Wind Speed\"\n",
    "featureassembler = VectorAssembler(inputCols = features, outputCol = output_c)\n",
    "\n",
    "# get output\n",
    "output_y = featureassembler.transform(yellow_data)\n",
    "output_g = featureassembler.transform(green_data)\n",
    "# select input and output\n",
    "final_y = output_y.select(output_c, \"distance\")\n",
    "final_g = output_g.select(output_c, \"distance\")"
   ]
  },
  {
   "cell_type": "code",
   "execution_count": 42,
   "id": "721e9fce",
   "metadata": {},
   "outputs": [],
   "source": [
    "# split\n",
    "train_data_y, test_data_y = final_y.randomSplit([0.9,0.1])\n",
    "train_data_g, test_data_g = final_g.randomSplit([0.9,0.1])"
   ]
  },
  {
   "cell_type": "code",
   "execution_count": 43,
   "id": "f465376d",
   "metadata": {},
   "outputs": [
    {
     "name": "stdout",
     "output_type": "stream",
     "text": [
      "22/08/25 00:05:26 WARN Instrumentation: [654bd46f] regParam is zero, which might cause numerical instability and overfitting.\n",
      "22/08/25 00:05:26 WARN Instrumentation: [01742b94] regParam is zero, which might cause numerical instability and overfitting.\n"
     ]
    }
   ],
   "source": [
    "regressor = LinearRegression(featuresCol = output_c, labelCol = \"distance\")\n",
    "\n",
    "regressor_y = regressor.fit(train_data_y)\n",
    "regressor_g = regressor.fit(train_data_g)"
   ]
  },
  {
   "cell_type": "code",
   "execution_count": 44,
   "id": "8b01a555",
   "metadata": {},
   "outputs": [],
   "source": [
    "pred_y = regressor_y.evaluate(test_data_y)\n",
    "pred_g = regressor_g.evaluate(test_data_g)"
   ]
  },
  {
   "cell_type": "code",
   "execution_count": 45,
   "id": "5f341372",
   "metadata": {},
   "outputs": [
    {
     "name": "stdout",
     "output_type": "stream",
     "text": [
      "+--------------------------+--------+------------------+\n",
      "|Temperature and Wind Speed|distance|        prediction|\n",
      "+--------------------------+--------+------------------+\n",
      "|              [44.96,6.21]|    4.15| 3.302072378932335|\n",
      "|               [45.14,5.9]|    2.53| 3.307125021851399|\n",
      "|               [45.5,7.95]|    2.75|3.2740328966002967|\n",
      "|               [46.04,6.4]|    2.82|3.2992216848613545|\n",
      "|              [46.58,5.28]|    3.79|3.3174535866923116|\n",
      "+--------------------------+--------+------------------+\n",
      "only showing top 5 rows\n",
      "\n"
     ]
    }
   ],
   "source": [
    "pred_y.predictions.show(5)"
   ]
  },
  {
   "cell_type": "code",
   "execution_count": 46,
   "id": "de889b3b",
   "metadata": {},
   "outputs": [
    {
     "name": "stdout",
     "output_type": "stream",
     "text": [
      "+--------------------------+--------+------------------+\n",
      "|Temperature and Wind Speed|distance|        prediction|\n",
      "+--------------------------+--------+------------------+\n",
      "|             [18.86,13.67]|    4.63| 3.848749391513972|\n",
      "|              [21.02,7.39]|     6.5| 3.901474758132559|\n",
      "|               [21.2,7.15]|    4.53| 3.901934222884672|\n",
      "|              [21.2,13.42]|    2.98| 3.814870128546572|\n",
      "|             [24.98,13.42]|    2.59|3.7545343531792232|\n",
      "+--------------------------+--------+------------------+\n",
      "only showing top 5 rows\n",
      "\n"
     ]
    }
   ],
   "source": [
    "pred_g.predictions.show(5)"
   ]
  },
  {
   "cell_type": "code",
   "execution_count": 47,
   "id": "92a77693",
   "metadata": {},
   "outputs": [
    {
     "name": "stdout",
     "output_type": "stream",
     "text": [
      "0.5411843308283301 0.5197068929319331 -0.018105472641386733\n"
     ]
    }
   ],
   "source": [
    "print(mae_y, mse_y, r2_y)"
   ]
  },
  {
   "cell_type": "code",
   "execution_count": 48,
   "id": "a32ac73b",
   "metadata": {},
   "outputs": [
    {
     "name": "stdout",
     "output_type": "stream",
     "text": [
      "0.6243387845002774 0.8589720691618249 0.09618012574879786\n"
     ]
    }
   ],
   "source": [
    "print(mae_g, mse_g, r2_g)"
   ]
  }
 ],
 "metadata": {
  "kernelspec": {
   "display_name": "Python 3 (ipykernel)",
   "language": "python",
   "name": "python3"
  },
  "language_info": {
   "codemirror_mode": {
    "name": "ipython",
    "version": 3
   },
   "file_extension": ".py",
   "mimetype": "text/x-python",
   "name": "python",
   "nbconvert_exporter": "python",
   "pygments_lexer": "ipython3",
   "version": "3.9.7"
  }
 },
 "nbformat": 4,
 "nbformat_minor": 5
}
